{
 "cells": [
  {
   "cell_type": "code",
   "execution_count": 4,
   "metadata": {},
   "outputs": [
    {
     "name": "stdout",
     "output_type": "stream",
     "text": [
      "Pomůcky: Pulfrichův fotometr, zdroj napětí 0 - 30 V, wolframová vlákna (dvě světelné žárovky),\n",
      "multimetr, ohmmetr, zdroj referenčního napětí.\n"
     ]
    }
   ],
   "source": [
    "#string.replace(old, new)\n",
    "\n",
    "string = \"\"\"Pom˚ucky: Pulfrich˚uv fotometr, zdroj napˇet´ı 0 - 30 V, wolframov´a vl´akna (dvˇe svˇeteln´e ˇz´arovky),\n",
    "multimetr, ohmmetr, zdroj referenˇcn´ıho napˇet´ı.\"\"\"\n",
    "string = string.replace(\"´a\", \"á\")\n",
    "string = string.replace(\"´e\", \"é\")\n",
    "string = string.replace(\"´ı\", \"í\")\n",
    "string = string.replace(\"´o\", \"ó\")\n",
    "string = string.replace(\"´y\", \"ý\")\n",
    "string = string.replace(\"˚u\", \"ů\")\n",
    "string = string.replace(\"´u\", \"ú\")\n",
    "string = string.replace(\"ˇz\", \"ž\")\n",
    "string = string.replace(\"ˇs\", \"š\")\n",
    "string = string.replace(\"ˇc\", \"č\")\n",
    "string = string.replace(\"ˇr\", \"ř\")\n",
    "string = string.replace(\"ˇe\", \"ě\")\n",
    "string = string.replace(\"d ´ ’\", \"ď\")\n",
    "string = string.replace(\"d ´\", \"ď\")\n",
    "\n",
    "print(string)"
   ]
  },
  {
   "cell_type": "code",
   "execution_count": 1,
   "metadata": {},
   "outputs": [
    {
     "name": "stdout",
     "output_type": "stream",
     "text": [
      "Ověřte Stefan-Boltzmanův zákon (7), výsledky vyneste do grafu a určete konstatu \u000f.\n"
     ]
    }
   ],
   "source": [
    "#string.replace(old, new)\n",
    "\n",
    "string = \"\"\"Ovˇeˇrte Stefan-Boltzman˚uv z´akon (7), v´ysledky vyneste do grafu a urˇcete konstatu \u000f.\"\"\"\n",
    "string = string.replace(\"´a\", \"á\")\n",
    "string = string.replace(\"´e\", \"é\")\n",
    "string = string.replace(\"´ı\", \"í\")\n",
    "string = string.replace(\"´o\", \"ó\")\n",
    "string = string.replace(\"´y\", \"ý\")\n",
    "string = string.replace(\"˚u\", \"ů\")\n",
    "string = string.replace(\"´u\", \"ú\")\n",
    "string = string.replace(\"ˇz\", \"ž\")\n",
    "string = string.replace(\"ˇs\", \"š\")\n",
    "string = string.replace(\"ˇc\", \"č\")\n",
    "string = string.replace(\"ˇr\", \"ř\")\n",
    "string = string.replace(\"ˇe\", \"ě\")\n",
    "string = string.replace(\"d ´\", \"ď\")\n",
    "\n",
    "print(string)"
   ]
  },
  {
   "cell_type": "markdown",
   "metadata": {},
   "source": []
  }
 ],
 "metadata": {
  "interpreter": {
   "hash": "74ee5417593cc48c41872d21e3654069dd3eb276daa28115cd972748f0c5c197"
  },
  "kernelspec": {
   "display_name": "Python 3.8.4 32-bit",
   "language": "python",
   "name": "python3"
  },
  "language_info": {
   "codemirror_mode": {
    "name": "ipython",
    "version": 3
   },
   "file_extension": ".py",
   "mimetype": "text/x-python",
   "name": "python",
   "nbconvert_exporter": "python",
   "pygments_lexer": "ipython3",
   "version": "3.10.2"
  },
  "orig_nbformat": 4
 },
 "nbformat": 4,
 "nbformat_minor": 2
}
